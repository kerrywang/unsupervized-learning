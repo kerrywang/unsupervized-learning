{
 "cells": [
  {
   "cell_type": "code",
   "execution_count": 1,
   "metadata": {},
   "outputs": [],
   "source": [
    "from data import MNIST\n",
    "import collections"
   ]
  },
  {
   "cell_type": "code",
   "execution_count": 2,
   "metadata": {},
   "outputs": [
    {
     "name": "stdout",
     "output_type": "stream",
     "text": [
      "(30000, 784)\n"
     ]
    }
   ],
   "source": [
    "mnist = MNIST(30000)\n",
    "print (mnist.X_train.shape)"
   ]
  },
  {
   "cell_type": "code",
   "execution_count": 3,
   "metadata": {},
   "outputs": [
    {
     "name": "stdout",
     "output_type": "stream",
     "text": [
      "Counter({1: 3290, 7: 3140, 0: 3046, 3: 3017, 9: 3013, 6: 3000, 2: 2969, 4: 2957, 8: 2943, 5: 2625})\n"
     ]
    }
   ],
   "source": [
    "print (collections.Counter(list(mnist.y_train)))"
   ]
  },
  {
   "cell_type": "markdown",
   "metadata": {},
   "source": [
    "# Kmeans cluster"
   ]
  },
  {
   "cell_type": "code",
   "execution_count": 4,
   "metadata": {},
   "outputs": [],
   "source": [
    "%matplotlib inline\n",
    "import matplotlib.pyplot as plt\n",
    "from cluster import KMeanCluster\n"
   ]
  },
  {
   "cell_type": "code",
   "execution_count": 6,
   "metadata": {
    "scrolled": true
   },
   "outputs": [
    {
     "name": "stdout",
     "output_type": "stream",
     "text": [
      "Finished Kmean with 5 clusters using 21.73958134651184s\n",
      "Finished Kmean with 6 clusters using 24.98699712753296s\n",
      "Finished Kmean with 7 clusters using 32.66537165641785s\n",
      "Finished Kmean with 8 clusters using 31.067817449569702s\n",
      "Finished Kmean with 9 clusters using 34.63165354728699s\n",
      "Finished Kmean with 10 clusters using 38.55034136772156s\n",
      "Finished Kmean with 11 clusters using 40.31854796409607s\n",
      "Finished Kmean with 12 clusters using 37.49760818481445s\n",
      "Finished Kmean with 13 clusters using 41.52924370765686s\n",
      "Finished Kmean with 14 clusters using 46.9296236038208s\n",
      "Finished Kmean with 15 clusters using 49.99656796455383s\n",
      "Finished Kmean with 16 clusters using 51.555365562438965s\n",
      "Finished Kmean with 17 clusters using 50.01450848579407s\n",
      "Finished Kmean with 18 clusters using 48.55338716506958s\n",
      "Finished Kmean with 19 clusters using 52.34965395927429s\n"
     ]
    },
    {
     "data": {
      "text/plain": [
       "Text(0, 0.5, 'score')"
      ]
     },
     "execution_count": 6,
     "metadata": {},
     "output_type": "execute_result"
    },
    {
     "data": {
      "image/png": "[encoded data removed]",
      "text/plain": [
       "<Figure size 432x288 with 1 Axes>"
      ]
     },
     "metadata": {
      "needs_background": "light"
     },
     "output_type": "display_data"
    }
   ],
   "source": [
    "scores = []\n",
    "kRange = range(5, 20)\n",
    "for k in kRange:\n",
    "    newCluster = KMeanCluster(mnist.X_train, mnist.y_train, k)\n",
    "    newCluster.performCluster()\n",
    "    scores.append(newCluster.getBiasScore())\n",
    "plt.plot(kRange, scores, '.')\n",
    "plt.xlabel('k')\n",
    "plt.ylabel('score')"
   ]
  },
  {
   "cell_type": "code",
   "execution_count": 5,
   "metadata": {},
   "outputs": [
    {
     "name": "stdout",
     "output_type": "stream",
     "text": [
      "Finished Kmean with 14 clusters using 0.21825313568115234s\n"
     ]
    },
    {
     "data": {
      "text/plain": [
       "1495.3591512736768"
      ]
     },
     "execution_count": 5,
     "metadata": {},
     "output_type": "execute_result"
    }
   ],
   "source": [
    "kmeanCluster = KMeanCluster(mnist.X_train, mnist.y_train, 14)\n",
    "kmeanCluster.performCluster()\n"
   ]
  },
  {
   "cell_type": "code",
   "execution_count": 6,
   "metadata": {},
   "outputs": [
    {
     "name": "stdout",
     "output_type": "stream",
     "text": [
      "0.6166666666666667\n"
     ]
    }
   ],
   "source": [
    "print (kmeanCluster.getClassification())"
   ]
  },
  {
   "cell_type": "markdown",
   "metadata": {},
   "source": [
    "# Expectation Maximization"
   ]
  },
  {
   "cell_type": "code",
   "execution_count": 4,
   "metadata": {},
   "outputs": [],
   "source": [
    "%matplotlib inline\n",
    "import matplotlib.pyplot as plt\n",
    "from cluster import ExpectedMaximization"
   ]
  },
  {
   "cell_type": "code",
   "execution_count": 5,
   "metadata": {},
   "outputs": [
    {
     "name": "stdout",
     "output_type": "stream",
     "text": [
      "Finished ExpectedMaximization with 5 clusters using 0.3683738708496094s\n",
      "Finished ExpectedMaximization with 6 clusters using 0.38976025581359863s\n",
      "Finished ExpectedMaximization with 7 clusters using 0.4979593753814697s\n",
      "Finished ExpectedMaximization with 8 clusters using 0.5289220809936523s\n",
      "Finished ExpectedMaximization with 9 clusters using 0.6706407070159912s\n",
      "Finished ExpectedMaximization with 10 clusters using 0.6641316413879395s\n",
      "Finished ExpectedMaximization with 11 clusters using 0.7169532775878906s\n",
      "Finished ExpectedMaximization with 12 clusters using 0.8025078773498535s\n",
      "Finished ExpectedMaximization with 13 clusters using 0.867706298828125s\n",
      "Finished ExpectedMaximization with 14 clusters using 0.9381096363067627s\n",
      "Finished ExpectedMaximization with 15 clusters using 0.9830567836761475s\n",
      "Finished ExpectedMaximization with 16 clusters using 1.053818702697754s\n",
      "Finished ExpectedMaximization with 17 clusters using 1.1295278072357178s\n",
      "Finished ExpectedMaximization with 18 clusters using 1.2234249114990234s\n",
      "Finished ExpectedMaximization with 19 clusters using 1.2641079425811768s\n"
     ]
    },
    {
     "data": {
      "text/plain": [
       "Text(0, 0.5, 'score')"
      ]
     },
     "execution_count": 5,
     "metadata": {},
     "output_type": "execute_result"
    },
    {
     "data": {
      "image/png": "[encoded data removed]",
      "text/plain": [
       "<Figure size 432x288 with 1 Axes>"
      ]
     },
     "metadata": {
      "needs_background": "light"
     },
     "output_type": "display_data"
    }
   ],
   "source": [
    "scores = []\n",
    "kRange = range(5, 20)\n",
    "for k in kRange:\n",
    "    newCluster = ExpectedMaximization(mnist.X_train, mnist.y_train, k)\n",
    "    newCluster.performCluster()\n",
    "    scores.append(newCluster.getBiasScore())\n",
    "plt.plot(kRange, scores, '.')\n",
    "plt.xlabel('k')\n",
    "plt.ylabel('score')"
   ]
  },
  {
   "cell_type": "code",
   "execution_count": 5,
   "metadata": {},
   "outputs": [
    {
     "name": "stdout",
     "output_type": "stream",
     "text": [
      "Finished ExpectedMaximization with 14 clusters using 412.8871669769287s\n"
     ]
    },
    {
     "ename": "NameError",
     "evalue": "name 'emcluster' is not defined",
     "traceback": [
      "\u001b[0;31m---------------------------------------------------------------------------\u001b[0m",
      "\u001b[0;31mNameError\u001b[0m                                 Traceback (most recent call last)",
      "\u001b[0;32m<ipython-input-5-698786e976de>\u001b[0m in \u001b[0;36m<module>\u001b[0;34m\u001b[0m\n\u001b[1;32m      1\u001b[0m \u001b[0memCluster\u001b[0m \u001b[0;34m=\u001b[0m \u001b[0mExpectedMaximization\u001b[0m\u001b[0;34m(\u001b[0m\u001b[0mmnist\u001b[0m\u001b[0;34m.\u001b[0m\u001b[0mX_train\u001b[0m\u001b[0;34m,\u001b[0m \u001b[0mmnist\u001b[0m\u001b[0;34m.\u001b[0m\u001b[0my_train\u001b[0m\u001b[0;34m,\u001b[0m \u001b[0;36m14\u001b[0m\u001b[0;34m)\u001b[0m\u001b[0;34m\u001b[0m\u001b[0;34m\u001b[0m\u001b[0m\n\u001b[1;32m      2\u001b[0m \u001b[0memCluster\u001b[0m\u001b[0;34m.\u001b[0m\u001b[0mperformCluster\u001b[0m\u001b[0;34m(\u001b[0m\u001b[0;34m)\u001b[0m\u001b[0;34m\u001b[0m\u001b[0;34m\u001b[0m\u001b[0m\n\u001b[0;32m----> 3\u001b[0;31m \u001b[0mprint\u001b[0m \u001b[0;34m(\u001b[0m\u001b[0memcluster\u001b[0m\u001b[0;34m.\u001b[0m\u001b[0mgetClassification\u001b[0m\u001b[0;34m(\u001b[0m\u001b[0;34m)\u001b[0m\u001b[0;34m)\u001b[0m\u001b[0;34m\u001b[0m\u001b[0;34m\u001b[0m\u001b[0m\n\u001b[0m",
      "\u001b[0;31mNameError\u001b[0m: name 'emcluster' is not defined"
     ],
     "output_type": "error"
    }
   ],
   "source": [
    "emCluster = ExpectedMaximization(mnist.X_train, mnist.y_train, 14)\n",
    "emCluster.performCluster()\n",
    "print (emcluster.getClassification())"
   ]
  },
  {
   "cell_type": "code",
   "execution_count": null,
   "metadata": {},
   "outputs": [],
   "source": []
  },
  {
   "cell_type": "code",
   "execution_count": null,
   "metadata": {},
   "outputs": [],
   "source": []
  },
  {
   "cell_type": "code",
   "execution_count": null,
   "metadata": {},
   "outputs": [],
   "source": []
  }
 ],
 "metadata": {
  "kernelspec": {
   "display_name": "Python 3",
   "language": "python",
   "name": "python3"
  },
  "language_info": {
   "codemirror_mode": {
    "name": "ipython",
    "version": 3
   },
   "file_extension": ".py",
   "mimetype": "text/x-python",
   "name": "python",
   "nbconvert_exporter": "python",
   "pygments_lexer": "ipython3",
   "version": "3.6.7"
  }
 },
 "nbformat": 4,
 "nbformat_minor": 2
}
